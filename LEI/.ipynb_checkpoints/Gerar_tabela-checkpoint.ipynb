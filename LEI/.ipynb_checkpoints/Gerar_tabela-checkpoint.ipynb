{
 "cells": [
  {
   "cell_type": "markdown",
   "metadata": {},
   "source": [
    "## JORNAL PÚBLICO: Gerar tabela latex com os resultados obtidos no netlang"
   ]
  },
  {
   "cell_type": "markdown",
   "metadata": {},
   "source": [
    "Importar o pdf e ler os campos"
   ]
  },
  {
   "cell_type": "code",
   "execution_count": 57,
   "metadata": {},
   "outputs": [],
   "source": [
    "import pdfplumber\n",
    "\n",
    "d = {}   #Dicionario onde será guardado o conteudo\n",
    "\n",
    "for n in range(1,127):\n",
    "   # print()\n",
    "    if (n==100 or n ==101 or n == 2):\n",
    "        pass\n",
    "    else:\n",
    "    \n",
    "\n",
    "        pdf = pdfplumber.open('Publico/TabelaFreq_Publico_extraction_portuguese_c_' + str(n) + '.pdf')\n",
    "\n",
    "        pages = pdf.pages\n",
    "        page = pdf.pages[len(pages)-1]   #acede a ultima linha\n",
    "\n",
    "        text = page.extract_text()\n",
    "\n",
    "        palavras = text.split()\n",
    "        \n",
    "        #######     ---------------------------         Extrair a pencentagem -----------------\n",
    "        j = 0\n",
    "        for i in palavras:\n",
    "            if i == \"is\":\n",
    "                break;\n",
    "    \n",
    "            j = j+ 1\n",
    "       \n",
    "        if (j == len(palavras)):\n",
    "          \n",
    "            page = pdf.pages[len(pages)-2]   #acede a pnultima ultima linha\n",
    "\n",
    "            text = page.extract_text()\n",
    "\n",
    "            palavras = text.split()\n",
    "            \n",
    "            j = 0\n",
    "\n",
    "            #Extrair a pencentagem\n",
    "            for i in palavras:\n",
    "                if i == \"is\":\n",
    "                    break;\n",
    "\n",
    "                j = j+ 1\n",
    "           \n",
    "              \n",
    "        perc = palavras[j + 1]\n",
    "        \n",
    "        if perc == \"the\":\n",
    "            \n",
    "            page = pdf.pages[len(pages)-2]   #acede a ultima linha\n",
    "\n",
    "            text = page.extract_text()\n",
    "\n",
    "            palavras = text.split()\n",
    "            \n",
    "            j = 0\n",
    "\n",
    "            #Extrair a pencentagem\n",
    "            for i in palavras:\n",
    "                if i == \"is\":\n",
    "                    break;\n",
    "\n",
    "                j = j+ 1\n",
    "           \n",
    "            perc = palavras[j + 1]\n",
    "        \n",
    "    \n",
    "        p = perc.split(\".\")\n",
    "        percentagem = p[0]+ \",\" + p[1]\n",
    "       \n",
    "        ## -------------------------------        Extrair a fração ------------------------------\n",
    "        page = pdf.pages[len(pages)-1]\n",
    "        text = page.extract_text()\n",
    "\n",
    "        palavras = text.split()\n",
    "        fracao = palavras[-8:-7][0].split('/')[0]\n",
    "        \n",
    "        \n",
    "        ##Adicionar ao diconario\n",
    "\n",
    "        d[\"Publico-extraction-portuguese-\" + str(n) + '.pdf'] = [fracao,percentagem]\n",
    "        pdf.close()\n",
    "    \n",
    "    "
   ]
  },
  {
   "cell_type": "markdown",
   "metadata": {},
   "source": [
    "Gerar tabela latex"
   ]
  },
  {
   "cell_type": "code",
   "execution_count": 61,
   "metadata": {},
   "outputs": [],
   "source": [
    "import os\n",
    "\n",
    "\n",
    "## Funçao recebe o dicionario no formato: {nomeFicheiro: [Nºocorrencias,percentagem]}\n",
    "def gerarTabela(d):\n",
    "   \n",
    "    texfilename =\"TabelaPublico.tex\"\n",
    "     \n",
    "    texfile = open(texfilename, 'w')\n",
    "    \n",
    "    texfile.write(\"\\documentclass[11pt]{article}\\n\\\\usepackage{graphicx}\\n\\\\usepackage{multirow}\\n\\\\usepackage[pdftex]{hyperref}\\n\\\\usepackage{colortbl}\")\n",
    "    texfile.write(\"\\n\\\\usepackage{longtable, array}\\n\\\\usepackage[usenames,dvipsnames,svgnames,table]{xcolor}\\n\\\\newlength\\mylength\")\n",
    "    texfile.write(\"\\n\\\\usepackage[legalpaper, landscape, margin=1in]{geometry}\\n\\\\newcommand{\\MinNumber}{0}\")\n",
    "    texfile.write(\"\\\\begin{document}\")\n",
    "    texfile.write( \"\\n\\n\")\n",
    "    \n",
    "    texfile.write(\"\\\\textbf {\\\\huge Jornal publico:}\")\n",
    "    texfile.write(\"\\\\newline\")\n",
    "    texfile.write(\"\\\\newline\")\n",
    "    texfile.write(\"\\\\newline\")\n",
    "\n",
    "    \n",
    "   \n",
    "    texfile.write(\"\\n\\n\\\\centering\\\\textbf{\\\\large Table  1: Sintese dos resultados por ficheiro \\n}\")\n",
    "\n",
    "    texfile.write(\"\\n\\\\newcommand{\\MaxNumber}{0}%\\n\\\\newcommand{\\ApplyGradient}[1]{%\\n\\\\pgfmathsetmacro{\\PercentColor}{100.0*(#1-\\MinNumber)/(\\MaxNumber-\\MinNumber)}\\n\\\\xdef\\PercentColor{\\PercentColor}%\\n\\\\cellcolor{LightSpringGreen!\\PercentColor!LightRed}{#1}\\n}\")\n",
    "    texfile.write(\"\\n\\\\newcolumntype{C}[2]{>{\\\\centering\\\\arraybackslash}p{#1}}\\n\\\\begin{center}\\n\\setlength\")\n",
    "    texfile.write(\"\\mylength{\\dimexpr\\\\textwidth - 1\\\\arrayrulewidth - 50\\\\tabcolsep}\\n\\\\begin{longtable}{|C{.40\\mylength}|C{.30\\mylength}|C{.30\\mylength}|}\")\n",
    "    texfile.write(\"\\n\\hline\\n\\\\textbf{Nome} & \\\\textbf{Nº de ocorrencias de hate Speech} & \\\\textbf{Percentagem de hate Speech(\\%)} \\\\\\\\\\n\\hline\")\n",
    "\n",
    "    #para alternar as cores das linhas\n",
    "    color1 = \"green!27\" \t\t\t\n",
    "    color2 = \"green!5\"\n",
    "    color = color1\n",
    "    \n",
    "    for file in d:\n",
    "        \n",
    "        \n",
    "\n",
    "        string =  '\\cellcolor{' + color + '}' + file + ' & ' + '\\cellcolor{' + color + '}' + d[file][0] + ' & ' + '\\cellcolor{' + color + '}' + d[file][1] +  ' \\\\\\\\  \\hline\\n  '\n",
    "        \n",
    "    \n",
    "        #alternar as cores\n",
    "        if color == color1:\n",
    "            color = color2\n",
    "        else:\n",
    "            color = color1\n",
    "        \n",
    "        #escrever as linhas da tabela\n",
    "        texfile.write(\"%s\" % (string))\n",
    "     \n",
    "\n",
    "    #termina a primeira tabela\n",
    "    texfile.write(\"\\n\\end{longtable}\\n\\end{center}\\n\")\n",
    "\n",
    "\n",
    "    texfile.write(\"\\end{document}\")\n",
    "\n",
    "    texfile.close()\n",
    "    \n",
    "    command = 'pdflatex ' + texfilename #gerar o ficheiro pdf a partir do .tex\n",
    "    \n",
    "    os.system(command)\n",
    "    \n",
    "    pdffilename = texfilename.split(\".\")[0] + \".pdf\"\n",
    "    \n",
    "    return pdffilename"
   ]
  },
  {
   "cell_type": "code",
   "execution_count": 62,
   "metadata": {},
   "outputs": [
    {
     "data": {
      "text/plain": [
       "'TabelaPublico.pdf'"
      ]
     },
     "execution_count": 62,
     "metadata": {},
     "output_type": "execute_result"
    }
   ],
   "source": [
    "#Gerar a tabela\n",
    "gerarTabela(d)"
   ]
  },
  {
   "cell_type": "code",
   "execution_count": null,
   "metadata": {},
   "outputs": [],
   "source": [
    "## Para obter o pdf, executar na pasta correspondente na linha de comandos: pdflatex TabelaPublico.tex"
   ]
  }
 ],
 "metadata": {
  "kernelspec": {
   "display_name": "Python 3",
   "language": "python",
   "name": "python3"
  },
  "language_info": {
   "codemirror_mode": {
    "name": "ipython",
    "version": 3
   },
   "file_extension": ".py",
   "mimetype": "text/x-python",
   "name": "python",
   "nbconvert_exporter": "python",
   "pygments_lexer": "ipython3",
   "version": "3.8.5"
  }
 },
 "nbformat": 4,
 "nbformat_minor": 4
}
